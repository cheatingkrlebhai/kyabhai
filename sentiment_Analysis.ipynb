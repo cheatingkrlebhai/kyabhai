{
  "nbformat": 4,
  "nbformat_minor": 0,
  "metadata": {
    "colab": {
      "provenance": [],
      "toc_visible": true
    },
    "kernelspec": {
      "name": "python3",
      "display_name": "Python 3"
    },
    "language_info": {
      "name": "python"
    }
  },
  "cells": [
    {
      "cell_type": "code",
      "source": [
        "import pandas as pd\n",
        "from sklearn.model_selection import train_test_split\n",
        "from sklearn.feature_extraction.text import CountVectorizer\n",
        "from sklearn.linear_model import LogisticRegression\n",
        "from sklearn.metrics import accuracy_score, classification_report\n",
        "\n",
        "# Create DataFrame\n",
        "df = pd.read_csv('sentimentdata (1).csv')\n",
        "\n",
        "# Split Dataset\n",
        "X = df['Review']\n",
        "y = df['Liked']\n",
        "X_train, X_test, y_train, y_test = train_test_split(X, y, test_size=0.25, random_state=42)\n",
        "\n",
        "# Text Vectorization\n",
        "vectorizer = CountVectorizer()\n",
        "X_train_vectorized = vectorizer.fit_transform(X_train)\n",
        "X_test_vectorized = vectorizer.transform(X_test)\n",
        "\n",
        "# Logistic Regression Model\n",
        "model = LogisticRegression()\n",
        "model.fit(X_train_vectorized, y_train)\n",
        "\n",
        "# Make Predictions\n",
        "y_pred = model.predict(X_test_vectorized)\n",
        "\n",
        "# Evaluation\n",
        "print(\"Accuracy:\", accuracy_score(y_test, y_pred))\n",
        "print(\"Classification Report:\\n\", classification_report(y_test, y_pred))\n",
        "\n",
        "# Prediction on New Data\n",
        "new_reviews = [\"Good\", \"Worst experience ever.\"]\n",
        "new_reviews_vectorized = vectorizer.transform(new_reviews)\n",
        "predictions = model.predict(new_reviews_vectorized)\n",
        "\n",
        "print(\"New Reviews Predictions:\", predictions)\n"
      ],
      "metadata": {
        "colab": {
          "base_uri": "https://localhost:8080/"
        },
        "id": "Kmp3E2yQysfI",
        "outputId": "f3d384ea-9836-482f-edfb-d405a6400a81"
      },
      "execution_count": null,
      "outputs": [
        {
          "output_type": "stream",
          "name": "stdout",
          "text": [
            "Accuracy: 0.76\n",
            "Classification Report:\n",
            "               precision    recall  f1-score   support\n",
            "\n",
            "           0       0.76      0.69      0.72       102\n",
            "           1       0.76      0.82      0.79       123\n",
            "\n",
            "    accuracy                           0.76       225\n",
            "   macro avg       0.76      0.75      0.76       225\n",
            "weighted avg       0.76      0.76      0.76       225\n",
            "\n",
            "New Reviews Predictions: [1 0]\n"
          ]
        }
      ]
    },
    {
      "cell_type": "code",
      "source": [],
      "metadata": {
        "id": "g-ixhpGBoLDI"
      },
      "execution_count": null,
      "outputs": []
    }
  ]
}